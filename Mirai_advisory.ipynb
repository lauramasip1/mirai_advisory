{
 "cells": [
  {
   "cell_type": "markdown",
   "id": "53ea344e-2087-4e30-a757-967f4cd8c1d4",
   "metadata": {
    "tags": []
   },
   "source": [
    "#### Sensitivity analysis:"
   ]
  },
  {
   "cell_type": "markdown",
   "id": "a3a2f917-e0a7-42e5-99a7-539d7cb02795",
   "metadata": {},
   "source": [
    "Imagine a portfolio of securities whose value can be approximately represented by a single risk factor x (random variable), as follows: ppv=f(x) = k1 * e^(-T1*x),\n",
    "where k1 and T1 are constants. The portfolio owner wants to add a new security to the portfolio, which has the generic form g(x, k2, T2), where x is the same\n",
    "random variable. The constants k1 and k2 are the nominal values of the securities. Create a function that returns four values: the value of the old portfolio, the\n",
    "value of the new portfolio, the sensitivity of the old portfolio to factor x, and the sensitivity of the new portfolio to factor x taking into account the weighted face\n",
    "value (positive for long positions, negative for short positions). The inputs to the function should be k1, T1, x and g(x, k2, T2):"
   ]
  },
  {
   "cell_type": "code",
   "execution_count": 15,
   "id": "35176c3c-977b-4ead-b5aa-a22858d23699",
   "metadata": {
    "tags": []
   },
   "outputs": [],
   "source": [
    "import numpy as np\n",
    "import math\n",
    "from scipy.optimize import minimize"
   ]
  },
  {
   "cell_type": "code",
   "execution_count": 5,
   "id": "7dab76dd-afe9-4fd4-81a2-e9c8f1572d21",
   "metadata": {
    "tags": []
   },
   "outputs": [],
   "source": [
    "def portfolio_sensitivity(k1, T1, x, g, k2, T2): #inputs function\n",
    "    old_portfolio_value = k1 * np.exp(-T1 * x) # Valor aprox antiguo portf. con formula proporcionada\n",
    "    new_security_value = g(x, k2, T2)     # Valor nueva security\n",
    "    new_portfolio_value = old_portfolio_value + new_security_value  # Valor nuevo portafolio cuando añadimos new security.\n",
    "                                                                    # Asumimos que es correcto añadir el valor security nueva al portafolio existente.\n",
    "    sensitivity_old_portfolio = -k1 * T1 * np.exp(-T1 * x) # Sensibilidad del antiguo portafolio a factor x (cambia x, k1 y T1 cte). Usamos derivada parcial.\n",
    "    sensitivity_new_portfolio = (new_portfolio_value - old_portfolio_value) / x  # Sensibilidad del nuevo portafolio al añadir la nueva security,en función del factor x. \n",
    "                                                                                 # También podriamos suponer que k2 es el valor nominal de las posiciones largas (positivas).\n",
    "                                                                                 # y que k1 es el valor nominal de las posiciones cortas (negativas).\n",
    "                                                                                 # En este caso quedaría: sensitivity_new_portfolio = (new_portfolio_value - old_portfolio_value) / (k2 - k1)\n",
    "    \n",
    "    return old_portfolio_value, new_portfolio_value, sensitivity_old_portfolio, sensitivity_new_portfolio"
   ]
  },
  {
   "cell_type": "markdown",
   "id": "bdda344d-1fd9-4df1-8dfe-b7a17c9d2333",
   "metadata": {},
   "source": [
    "Tomamos la derivada parcial respecto a x. Así sabemos cuanto cambia el portfolio cuando cambia x manteniendo \n",
    "las demas variables constantes. Esto es una simplificación, ya que se asume que as relaciones entre los activos en  el portfolio y el factor de riesgo x son lineales, implicando que cambios en x conducen a cambios proporcionales en el valor de los activos del portfolio. Tampoco se tienen en cuenta momentos de alta volatilidad o eventos extremos del mercado y la posible correlación dinámica entre activos del portfolio.\n",
    "\n",
    "\"Análisis de sensibilidad (estadística).\" Wikipedia. Wikipedia, la enciclopedia libre, 28 de septiembre de 2023. https://es.wikipedia.org/wiki/An%C3%A1lisis_de_sensibilidad_(estad%C3%ADstica).\n",
    "\n",
    "Para la sensiblidad del nuevo portfolio, se observa cómo cambia su valor total (incluiendo la nueva security)en relación con cambios en x."
   ]
  },
  {
   "cell_type": "markdown",
   "id": "3d45602d-7645-4f2f-82d2-329aed6a14b3",
   "metadata": {
    "tags": []
   },
   "source": [
    "#### Optimization: "
   ]
  },
  {
   "cell_type": "markdown",
   "id": "c281f79e-77eb-4fac-8d56-7dbf1a6b77e2",
   "metadata": {},
   "source": [
    "Imagine the portfolio owner wants to offset the risk associated with x in the new portfolio. To achieve this, the T2 parameter,\n",
    "instead of being a constant, can be adjusted. Develop a routine that requires inputs such as k1, T1, x, and g(x, k2, t2) to identify\n",
    "the potential values of t2 that offset all risk associated with x. Use any optimization techniques as needed."
   ]
  },
  {
   "cell_type": "code",
   "execution_count": 12,
   "id": "4e73c792-38ab-41a8-a996-79cbcad635cb",
   "metadata": {
    "tags": []
   },
   "outputs": [],
   "source": [
    "def risk_to_x_function(T2, k1, T1, x, k2): # Función que calcule el riesgo asociado a x en el nuevo portfolio\n",
    "    #_, _, _, sensitivity_new_portfolio = portfolio_sensitivity(k1, T1, x, g, k2, T2)\n",
    "    _, _, _, sensitivity_new_portfolio = portfolio_sensitivity(k1, T1, x, lambda x, k2, T2: g(x, k2, T2), k2, T2)  # Extraes de la función portfolio_sensitivity, la sensibilidad del nuevo portfolio\n",
    "    risk_to_x = abs(sensitivity_new_portfolio)     # riesgo asociado a x nuevo portfolio == sensibilidad al factor x (delta) en abs value.\n",
    "    \n",
    "    return risk_to_x "
   ]
  },
  {
   "cell_type": "code",
   "execution_count": 13,
   "id": "aeb7f47e-e034-4521-bf25-8bab0022f43d",
   "metadata": {
    "tags": []
   },
   "outputs": [],
   "source": [
    "def offset_risk(k1, T1, x, k2): # Función para valor óptimo de T2 que minimiza el riesgo de x. (Estamos buscando un solo valor óptimo de T2.)\n",
    "    initial_guess = 1.0      # Valor inicial para T2, suposición y punto de partida\n",
    "    constraint = {'type': 'eq', 'fun': lambda T2: risk_to_x_function(T2, k1, T1, x, k2)} # restricción optimización, riesgo == 0 \n",
    "    result = minimize(lambda T2: 0, initial_guess, constraints=constraint)     # Realiza la optimización para que riesgo sea 0.\n",
    "    optimized_T2 = result.x[0]     # Extrae el (primer) valor óptimo de T2 para que el resultado del riesgo sea 0.\n",
    "    \n",
    "    return optimized_T2"
   ]
  },
  {
   "cell_type": "markdown",
   "id": "a42d967c-d037-482c-8670-b15ebb11bfca",
   "metadata": {},
   "source": [
    "Como una simplificación, tomamos la sensibilidad como una medida de riesgo, dado que el riesgo se relaciona directamente con la variación del valor de la cartera debido a cambios en x. Además solo se conoce el valor total del antiguo portafolio y no hay información detallada sobre los activos individuales que lo componen. \n",
    "\n",
    "\n",
    "Se utiliza la biblioteca scipy y el método de optimización minimize, que se utiliza para encontrar los valores óptimos de las variables de ajuste (en este caso, T2) que minimizan una función dada (risk_to_x_function).\n",
    "La restricción está expresada como un diccionario (constraint). La clave 'type' en 'eq', define una constraint de igualdad. 'fun' da la función que calcula el riesgo (lambda, T2: risk_to_x_function(T2, k1, T1, x, k2)). Esto significa que la optimización intentará encontrar un valor de T2 de manera que el resultado de risk_to_x_function(T2, k1, T1, x, k2) sea cero. (lambda T2: 0 )\n",
    "\n",
    "SciPy Community. (2023). SciPy.optimize.minimize. https://docs.scipy.org/doc/scipy/reference/generated/scipy.optimize.minimize.htm"
   ]
  },
  {
   "cell_type": "markdown",
   "id": "70be69dd-c3ab-4a20-a6ef-3afebd96b003",
   "metadata": {
    "tags": []
   },
   "source": [
    "#### Stochastic analysis: "
   ]
  },
  {
   "cell_type": "markdown",
   "id": "4eab5fe9-edfa-4c64-8a09-dd0333022b63",
   "metadata": {},
   "source": [
    "Imagine that x is a random variable that follows a simple stochastic process, the Wiener process: dx = x * q * dW. Build a\n",
    "function that calculates the value of the new portfolio, taking as inputs: k1, T1, g(x, k2, T2), q, deltaStepOfWiener, and\n",
    "numMaxFinalSteps."
   ]
  },
  {
   "cell_type": "code",
   "execution_count": 17,
   "id": "cc0d05df-07e3-416c-aeef-d215cbe6116c",
   "metadata": {
    "tags": []
   },
   "outputs": [],
   "source": [
    "def stochastic_portfolio_value(k1, T1, g, k2, T2, q, deltaStepOfWiener, numMaxFinalSteps):\n",
    "    x = 0.0 # Inicializa, para tener valor inicial de x\n",
    "    new_portfolio_value = 0.0  # Inicializa, para tener un valor inicial del nuevo portafolio\n",
    "   \n",
    "    for step in range(numMaxFinalSteps): #bucle for, step con valores entre 0 y (numMaxFinalSteps - 1)\n",
    "        dW = np.random.normal(0, np.sqrt(deltaStepOfWiener)) # Crea incremento aleatorio con distribució normal, representando naturaleza estocástica del proceso. \n",
    "                                                             # 0 media (propiedad proceso wiener) y st. deviation para varianza del incremento proporcional al intervalodel tiempo\n",
    "        x += x * q * dW # Actualiza el valor de x en cada iteracion\n",
    "        new_security_value = g(x, k2, T2)   # Calcula el valor del nuevo activo\n",
    "        new_portfolio_value += new_security_value  # Actualiza el valor portafolio, sumándole el valor del nuevo activo\n",
    "    \n",
    "    return new_portfolio_value\n",
    "\n",
    "\n",
    "\n",
    "        "
   ]
  },
  {
   "cell_type": "markdown",
   "id": "2f33c570-ff17-4827-8ff9-53d49c028df8",
   "metadata": {},
   "source": [
    "La principal característica del proceso de Wiener es que los incrementos son independientes entre sí y están distribuidos normalmente con una media de cero y una varianza proporcional al tamaño del incremento de tiempo. Al configurar la media en 0, estamos modelando la propiedad de Wiener.\n",
    "\n",
    "\"Proceso de Wiener (Movimiento Browniano).\" Wikipedia. Wikipedia, la enciclopedia libre, 28 de septiembre de 2023. \n",
    "https://es.wikipedia.org/wiki/Proceso_de_Wiener#:~:text=En%20matem%C3%A1ticas%2C%20un%20proceso%20de,en%20honor%20a%20Robert%20Brown."
   ]
  },
  {
   "cell_type": "code",
   "execution_count": null,
   "id": "702279d2-5b86-4d35-8fb1-2839a1fd5463",
   "metadata": {},
   "outputs": [],
   "source": []
  }
 ],
 "metadata": {
  "kernelspec": {
   "display_name": "Python 3 (ipykernel)",
   "language": "python",
   "name": "python3"
  },
  "language_info": {
   "codemirror_mode": {
    "name": "ipython",
    "version": 3
   },
   "file_extension": ".py",
   "mimetype": "text/x-python",
   "name": "python",
   "nbconvert_exporter": "python",
   "pygments_lexer": "ipython3",
   "version": "3.11.4"
  }
 },
 "nbformat": 4,
 "nbformat_minor": 5
}
